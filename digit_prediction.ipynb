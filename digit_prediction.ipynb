{
  "nbformat": 4,
  "nbformat_minor": 0,
  "metadata": {
    "colab": {
      "provenance": [],
      "authorship_tag": "ABX9TyNW0Hu83D9DnUsGLBo1teKf"
    },
    "kernelspec": {
      "name": "python3",
      "display_name": "Python 3"
    },
    "language_info": {
      "name": "python"
    }
  },
  "cells": [
    {
      "cell_type": "code",
      "execution_count": null,
      "metadata": {
        "colab": {
          "base_uri": "https://localhost:8080/"
        },
        "id": "vGyfrL-I2_nI",
        "outputId": "5a2a04d2-eb6b-4f19-b4f9-5fbe1914c85c"
      },
      "outputs": [
        {
          "output_type": "stream",
          "name": "stdout",
          "text": [
            "Done :D\n"
          ]
        }
      ],
      "source": [
        "import torch\n",
        "import torch.nn as nn\n",
        "import pandas as pd\n",
        "import torch.optim as optim\n",
        "from torch.utils.data import DataLoader, TensorDataset\n",
        "\n",
        "# ============================\n",
        "# 1. Load and Preprocess Training Data\n",
        "# ============================\n",
        "\n",
        "# Load the training dataset\n",
        "df = pd.read_csv(\"/train.csv\")\n",
        "\n",
        "# Extract pixel values and labels\n",
        "pixels = df.drop(columns=[\"label\"]).values  #784 total\n",
        "labels = df[\"label\"].values\n",
        "\n",
        "# Convert data to tensors\n",
        "pixels_tensor = torch.tensor(pixels, dtype=torch.float32) / 255.0  # Normalize to 0,1\n",
        "labels_tensor = torch.tensor(labels, dtype=torch.long)\n",
        "\n",
        "# ============================\n",
        "# 2. Define the Neural Network Model\n",
        "# ============================\n",
        "\n",
        "model = nn.Sequential(\n",
        "    nn.Linear(784, 128),  # Input layer (784 -> 128)\n",
        "    nn.ReLU(),            # Activation function\n",
        "    nn.Linear(128, 64),   # Hidden layer (128 -> 64)\n",
        "    nn.ReLU(),            # Activation function\n",
        "    nn.Linear(64, 10)     # Output layer (64 -> 10 classes)\n",
        ")\n",
        "\n",
        "# Define loss function (cross-entropy for classification)\n",
        "loss_fn = nn.CrossEntropyLoss()\n",
        "\n",
        "# Define optimizer (Adam optimizer with learning rate 0.001)\n",
        "optimizer = optim.Adam(model.parameters(), lr=0.001)\n",
        "\n",
        "# ============================\n",
        "# 3. Train the Model\n",
        "# ============================\n",
        "\n",
        "# Create a DataLoader to handle mini-batches (batch size = 32)\n",
        "train_loader = DataLoader(\n",
        "    TensorDataset(pixels_tensor, labels_tensor), batch_size=32, shuffle=True\n",
        ")\n",
        "\n",
        "epochs = 10\n",
        "model.train()\n",
        "\n",
        "for epoch in range(epochs):\n",
        "    for images, targets in train_loader:\n",
        "        optimizer.zero_grad()  # Reset gradients before each batch\n",
        "\n",
        "        outputs = model(images)  # Forward pass\n",
        "        loss = loss_fn(outputs, targets)  # Compute loss\n",
        "        loss.backward()  # Backpropagation\n",
        "        optimizer.step()  # Update weights\n",
        "\n",
        "\n",
        "# ============================\n",
        "# 4. Load and Preprocess Test Data\n",
        "# ============================\n",
        "\n",
        "# Load test dataset\n",
        "test_df = pd.read_csv(\"/test.csv\")\n",
        "test_pixels = test_df.values\n",
        "\n",
        "# Convert to PyTorch tensor and normalize\n",
        "test_pixels_tensor = torch.tensor(test_pixels, dtype=torch.float32) / 255.0\n",
        "\n",
        "# ============================\n",
        "# 5. Make Predictions\n",
        "# ============================\n",
        "\n",
        "model.eval()  # Set model to evaluation mode\n",
        "with torch.no_grad():  # Disable gradient calculations\n",
        "    predictions = model(test_pixels_tensor)\n",
        "\n",
        "# Get the class with the highest predicted probability\n",
        "predicted_classes = torch.argmax(predictions, dim=1)\n",
        "\n",
        "# ============================\n",
        "# 6. Save Predictions to CSV\n",
        "# ============================\n",
        "\n",
        "submission_df = pd.DataFrame({\n",
        "    \"ImageId\": range(1, len(predicted_classes) + 1),\n",
        "    \"Label\": predicted_classes.numpy()\n",
        "})\n",
        "\n",
        "# Save the predictions to a CSV file\n",
        "submission_df.to_csv(\"/predictions.csv\", index=False)\n",
        "\n",
        "print(\"Done :D\")\n"
      ]
    }
  ]
}
